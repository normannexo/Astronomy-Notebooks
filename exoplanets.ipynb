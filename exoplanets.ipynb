{
 "metadata": {
  "language_info": {
   "codemirror_mode": {
    "name": "ipython",
    "version": 3
   },
   "file_extension": ".py",
   "mimetype": "text/x-python",
   "name": "python",
   "nbconvert_exporter": "python",
   "pygments_lexer": "ipython3",
   "version": "3.7.6-final"
  },
  "orig_nbformat": 2,
  "kernelspec": {
   "name": "python3",
   "display_name": "Python 3.7.6 64-bit (conda)",
   "metadata": {
    "interpreter": {
     "hash": "cbb5947f9e56ced703ac7f61a579ab0e9fabcd986880c6d6caf926fc106f0f90"
    }
   }
  }
 },
 "nbformat": 4,
 "nbformat_minor": 2,
 "cells": [
  {
   "source": [
    "# Exoplanets\n",
    "\n",
    "Querying NASA's exoplanet archive https://exoplanetarchive.ipac.caltech.edu/"
   ],
   "cell_type": "markdown",
   "metadata": {}
  },
  {
   "cell_type": "code",
   "execution_count": 1,
   "metadata": {},
   "outputs": [],
   "source": [
    "from astroquery.nasa_exoplanet_archive import NasaExoplanetArchive"
   ]
  },
  {
   "cell_type": "code",
   "execution_count": 4,
   "metadata": {},
   "outputs": [
    {
     "output_type": "execute_result",
     "data": {
      "text/plain": [
       "<QTable length=1>\n",
       "count(*)\n",
       " arcsec \n",
       "float64 \n",
       "--------\n",
       "  4367.0"
      ],
      "text/html": "<i>QTable length=1</i>\n<table id=\"table1530877761928\" class=\"table-striped table-bordered table-condensed\">\n<thead><tr><th>count(*)</th></tr></thead>\n<thead><tr><th>arcsec</th></tr></thead>\n<thead><tr><th>float64</th></tr></thead>\n<tr><td>4367.0</td></tr>\n</table>"
     },
     "metadata": {},
     "execution_count": 4
    }
   ],
   "source": [
    "NasaExoplanetArchive.query_criteria(table=\"exoplanets\", select=\"count(*)\")"
   ]
  },
  {
   "cell_type": "code",
   "execution_count": null,
   "metadata": {},
   "outputs": [],
   "source": []
  }
 ]
}